{
 "cells": [
  {
   "cell_type": "markdown",
   "id": "232e1493",
   "metadata": {},
   "source": [
    "  #                              ASSIGNMENT SOLUTIONS"
   ]
  },
  {
   "cell_type": "markdown",
   "id": "34cd3afe",
   "metadata": {},
   "source": [
    "##  1. Who developed Python Programming Language?"
   ]
  },
  {
   "cell_type": "markdown",
   "id": "5217bd86",
   "metadata": {},
   "source": [
    " Guido van Rossum "
   ]
  },
  {
   "cell_type": "markdown",
   "id": "e883e6ed",
   "metadata": {},
   "source": [
    "## 2. Which type of programming does the Python support?"
   ]
  },
  {
   "cell_type": "code",
   "execution_count": null,
   "id": "eb929fb5",
   "metadata": {},
   "outputs": [],
   "source": [
    "Object-oriented programming and Structured programming are fully supported. Many of their features supports functional programming and aspect-oriented programming. "
   ]
  },
  {
   "cell_type": "markdown",
   "id": "97da26c0",
   "metadata": {},
   "source": [
    "## 3. Is Python case sensitive when dealing with identifiers?"
   ]
  },
  {
   "cell_type": "markdown",
   "id": "1010fa16",
   "metadata": {},
   "source": [
    " Yes, Python is a case-sensitive language, i.e., it treats uppercase and lowercase characters differently. "
   ]
  },
  {
   "cell_type": "markdown",
   "id": "e700cb99",
   "metadata": {},
   "source": [
    "## 4. What is the correct extension of the Python file?"
   ]
  },
  {
   "cell_type": "code",
   "execution_count": null,
   "id": "a4a5073b",
   "metadata": {},
   "outputs": [],
   "source": [
    ".py"
   ]
  },
  {
   "cell_type": "markdown",
   "id": "86c56160",
   "metadata": {},
   "source": [
    "## 5. Is Python code compiled or interpreted?"
   ]
  },
  {
   "cell_type": "code",
   "execution_count": null,
   "id": "04d099b0",
   "metadata": {},
   "outputs": [],
   "source": [
    "Python is an INTERPRETED LANGUAGE, which means the source code of a Python program is converted into bytecode that is then executed by the Python virtual machine. Python is different from major compiled languages, such as C and C + +, as Python code is not required to be built and linked like code for these languages."
   ]
  },
  {
   "cell_type": "markdown",
   "id": "442d7005",
   "metadata": {},
   "source": [
    "## 6. Name a few blocks of code used to define in Python language?"
   ]
  },
  {
   "cell_type": "code",
   "execution_count": null,
   "id": "0eb090aa",
   "metadata": {},
   "outputs": [],
   "source": [
    "a=12\n",
    "str=\"HIMANI\"\n",
    "a=\"var\""
   ]
  },
  {
   "cell_type": "code",
   "execution_count": 9,
   "id": "3e6983b7",
   "metadata": {},
   "outputs": [
    {
     "name": "stdout",
     "output_type": "stream",
     "text": [
      "<class 'int'>\n"
     ]
    }
   ],
   "source": [
    "print(type(a))"
   ]
  },
  {
   "cell_type": "markdown",
   "id": "1240536d",
   "metadata": {},
   "source": [
    "## 7.State a structure used to give single-line comments in Python?"
   ]
  },
  {
   "cell_type": "code",
   "execution_count": null,
   "id": "5a874f33",
   "metadata": {},
   "outputs": [],
   "source": [
    "Comments in Python begin with a hash symbol  ( # ) and whitespace character and continue to the end of the line."
   ]
  },
  {
   "cell_type": "markdown",
   "id": "fe494a8c",
   "metadata": {},
   "source": [
    "## 8.Mention functions which can help us to find the version of Python that we are currently working on?"
   ]
  },
  {
   "cell_type": "code",
   "execution_count": null,
   "id": "d5f27055",
   "metadata": {},
   "outputs": [],
   "source": [
    "python_version() function\n",
    "eg.sys.version"
   ]
  },
  {
   "cell_type": "markdown",
   "id": "57a33238",
   "metadata": {},
   "source": [
    "## 9.Python support the creation of anonymous functions at runtime,using a construct called__________"
   ]
  },
  {
   "cell_type": "code",
   "execution_count": null,
   "id": "0acaec3b",
   "metadata": {},
   "outputs": [],
   "source": [
    "lambda"
   ]
  },
  {
   "cell_type": "markdown",
   "id": "ebdc334a",
   "metadata": {},
   "source": [
    "## 10.What does pip stand for python?"
   ]
  },
  {
   "cell_type": "code",
   "execution_count": null,
   "id": "f5634e94",
   "metadata": {},
   "outputs": [],
   "source": [
    "It stands for Preffered Installer Program."
   ]
  },
  {
   "cell_type": "markdown",
   "id": "eae6f227",
   "metadata": {},
   "source": [
    "## 11.Mention a few built-in functions in python?"
   ]
  },
  {
   "cell_type": "code",
   "execution_count": null,
   "id": "eae17a8b",
   "metadata": {},
   "outputs": [],
   "source": [
    "print( ) function\n",
    "type( ) function\n",
    "input( ) function\n",
    "abs( ) function\n",
    "sorted( ) function\n",
    "max( ) function\n",
    "id( ) function\n",
    "ord( ) function\n",
    "len( ) function\n",
    "sum( ) function\n"
   ]
  },
  {
   "cell_type": "markdown",
   "id": "bf7d941d",
   "metadata": {},
   "source": [
    "## 12.What is the maximum  possible length of an identifier in Python?"
   ]
  },
  {
   "cell_type": "code",
   "execution_count": null,
   "id": "215b9387",
   "metadata": {},
   "outputs": [],
   "source": [
    "79 characters"
   ]
  },
  {
   "cell_type": "markdown",
   "id": "a5684e4c",
   "metadata": {},
   "source": [
    "## 13. What are the benefits of using python?"
   ]
  },
  {
   "cell_type": "code",
   "execution_count": null,
   "id": "5a04fe3a",
   "metadata": {},
   "outputs": [],
   "source": [
    ".System Programming\n",
    ".Graphical User Interface\n",
    ".Web Scrapping\n",
    ".Managing Database\n",
    ".Fast Prototyping\n",
    ".Numeric / Scientific Programming\n",
    ".Game development\n",
    ".Image Processing\n",
    ".Robotics\n",
    ".Automation\n",
    ".Data science\n",
    ".Data Mining"
   ]
  },
  {
   "cell_type": "markdown",
   "id": "6747d141",
   "metadata": {},
   "source": [
    "## 14.How is  memory  managed in python?"
   ]
  },
  {
   "cell_type": "code",
   "execution_count": null,
   "id": "9993811f",
   "metadata": {},
   "outputs": [],
   "source": [
    "Memory in Python is managed by Python private heap space. All Python objects and data structures are located in a private heap. This private heap is taken care of by Python Interpreter itself, and a programmer doesn't have access to this private heap."
   ]
  },
  {
   "cell_type": "markdown",
   "id": "40a8aacc",
   "metadata": {},
   "source": [
    "## 15.How to install python on Windows and set path variables?"
   ]
  },
  {
   "cell_type": "markdown",
   "id": "65caf0a1",
   "metadata": {},
   "source": [
    "### a. To install python "
   ]
  },
  {
   "cell_type": "code",
   "execution_count": null,
   "id": "1a842710",
   "metadata": {},
   "outputs": [],
   "source": [
    "Step 1: Download the Python Installer binaries. Open the official Python website in your web browser.\n",
    "Step 2: Run the Executable Installer. Once the installer is downloaded, run the Python installer.\n",
    "Step 3: Add Python to environmental variables.\n",
    "Step 4: Verify the Python Installation."
   ]
  },
  {
   "cell_type": "markdown",
   "id": "99143c16",
   "metadata": {},
   "source": [
    "### b. To set path variables"
   ]
  },
  {
   "cell_type": "code",
   "execution_count": null,
   "id": "3c13b3de",
   "metadata": {},
   "outputs": [],
   "source": [
    "Step 1:Right click on My Computer and click on properties.\n",
    "Step 2:Click on Advanced System settings.\n",
    "Step 3:Click on Environment Variable tab.\n",
    "Step 4:Click on new tab of user variables.\n",
    "Step 5:Write path in variable name.\n",
    "Step 6:Copy the path of Python folder.\n",
    "Step 7:Paste path of Python in variable value."
   ]
  },
  {
   "cell_type": "markdown",
   "id": "fb1e967f",
   "metadata": {},
   "source": [
    "## 16. Is indentation required in python?"
   ]
  },
  {
   "cell_type": "code",
   "execution_count": null,
   "id": "f0a2444f",
   "metadata": {},
   "outputs": [],
   "source": [
    "YES, indentation is required in python."
   ]
  }
 ],
 "metadata": {
  "kernelspec": {
   "display_name": "Python 3 (ipykernel)",
   "language": "python",
   "name": "python3"
  },
  "language_info": {
   "codemirror_mode": {
    "name": "ipython",
    "version": 3
   },
   "file_extension": ".py",
   "mimetype": "text/x-python",
   "name": "python",
   "nbconvert_exporter": "python",
   "pygments_lexer": "ipython3",
   "version": "3.9.13"
  }
 },
 "nbformat": 4,
 "nbformat_minor": 5
}
